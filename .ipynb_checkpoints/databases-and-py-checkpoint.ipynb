{
 "cells": [
  {
   "cell_type": "markdown",
   "metadata": {
    "azdata_cell_guid": "d7b89799-a102-479f-87b7-f2759ff1962e"
   },
   "source": [
    "# Exercises: Working with Databases in Python\n",
    "\n",
    "For the exercises, we will be practicing the steps outlined in this [article](https://towardsdatascience.com/do-you-know-python-has-a-built-in-database-d553989c87bd). You can skip the portion where the author downloads a separate SQL client to examine the database. "
   ]
  },
  {
   "cell_type": "markdown",
   "metadata": {
    "azdata_cell_guid": "89a0b6d9-821d-44f5-9795-9519809b9108"
   },
   "source": [
    "## Import Libraries\n",
    "\n",
    "We will need `pandas` and `sqlite3`. SQLite is a small, self-contained database engine that comes with Python so you will not have to do any additional installations for this lesson. If you want to connect to a different database engine, such as SQL server, you may need additional libraries such as `sqlalchemy` or `pyodbc` and a tool called a driver which helps to connect a database to an application.\n"
   ]
  },
  {
   "cell_type": "code",
   "execution_count": 4,
   "metadata": {
    "azdata_cell_guid": "865655b0-22e9-47f4-a5df-4bfe97dda4a3",
    "language": "python",
    "tags": []
   },
   "outputs": [],
   "source": [
    " import sqlite3 as sl\n",
    " import pandas as pd\n"
   ]
  },
  {
   "cell_type": "markdown",
   "metadata": {
    "azdata_cell_guid": "be8436e2-68be-47f8-9fc9-06c235a6a128"
   },
   "source": [
    "## Create a Database\n",
    "\n",
    "In the article, the author shows how to use `sqlite3` to open a connection to an existing database or create a new one. Use this method to make a new database called `exercises.db`."
   ]
  },
  {
   "cell_type": "code",
   "execution_count": 12,
   "metadata": {
    "azdata_cell_guid": "707abc33-c6ee-416e-9358-c799f1fcbb12",
    "language": "python",
    "tags": []
   },
   "outputs": [],
   "source": [
    "# Create a new database called exercises.db.\n",
    "conn = sl.connect('excercise.db')"
   ]
  },
  {
   "cell_type": "markdown",
   "metadata": {
    "azdata_cell_guid": "dc9df060-ddc9-4573-bd74-3c97323f85a7"
   },
   "source": [
    "## Create a Table\n",
    "\n",
    "Follow the steps in the article to create a table called `favorite_books.db`. This table should include columns for the title, author, and a short description of why it is a favorite."
   ]
  },
  {
   "cell_type": "code",
   "execution_count": 5,
   "metadata": {
    "azdata_cell_guid": "3cc6b80e-3fa2-4d2e-b2a9-1ea5d68ba01e",
    "language": "python"
   },
   "outputs": [
    {
     "name": "stdout",
     "output_type": "stream",
     "text": [
      "Opened database successfully\n",
      "Table created successfully\n"
     ]
    }
   ],
   "source": [
    "# Create a new table in your database.\n",
    "conn = sl.connect('favorite_books.db')\n",
    "print('Opened database successfully')\n",
    "\n",
    "conn.execute('''Create table favorite_books\n",
    "             (ID INT Primary Key NOT NULL,\n",
    "              title  varchar2(25),\n",
    "              author varchar2(20),\n",
    "              description  varchar2(25))''')\n",
    "print ('Table created successfully')"
   ]
  },
  {
   "cell_type": "markdown",
   "metadata": {
    "azdata_cell_guid": "e9acec60-1485-45c8-9f12-997f959d44cc"
   },
   "source": [
    "## Insert Records\n",
    "\n",
    "Add 3 entries to your table for your top 3 favorite books."
   ]
  },
  {
   "cell_type": "code",
   "execution_count": 8,
   "metadata": {
    "azdata_cell_guid": "c7b8e386-f3f4-42ad-aa91-a2da2e7904a5",
    "language": "python"
   },
   "outputs": [
    {
     "name": "stdout",
     "output_type": "stream",
     "text": [
      "Records created successfully\n"
     ]
    }
   ],
   "source": [
    "# Add your 3 favorite books to your table.\n",
    "with conn:\n",
    "    conn.execute(''' Insert into favorite_books(ID,title,author,description)\\\n",
    "     values(2,'Little women1','Lousia1','teenage')''');\n",
    "    conn.commit()\n",
    "    print('Records created successfully')\n"
   ]
  },
  {
   "cell_type": "markdown",
   "metadata": {
    "azdata_cell_guid": "b2e48ba7-b418-4418-bb16-598fb82b964c"
   },
   "source": [
    "## Query Your Table\n",
    "\n",
    "Write a `SELECT` query to output the 3 records in your table."
   ]
  },
  {
   "cell_type": "code",
   "execution_count": 9,
   "metadata": {
    "azdata_cell_guid": "c341e7e2-d635-4c26-b744-237c762f7f41",
    "language": "python",
    "tags": []
   },
   "outputs": [
    {
     "name": "stdout",
     "output_type": "stream",
     "text": [
      "(1, 'Little women', 'Lousia', 'teenage')\n",
      "(2, 'Little women1', 'Lousia1', 'teenage')\n"
     ]
    }
   ],
   "source": [
    "# Write your SELECT query here.\n",
    "with conn:\n",
    "    cursor = conn.execute('select * from favorite_books')\n",
    "    for row in cursor:\n",
    "        print (row)\n"
   ]
  },
  {
   "cell_type": "markdown",
   "metadata": {
    "azdata_cell_guid": "2127737d-71cd-4f0d-a84e-b1db8ad54af7"
   },
   "source": [
    "## Create a New Table with Pandas\n",
    "\n",
    "Create a new table called `favorite_movies` with your top 3 favorite movies. Each movie should have an id and a title. This time, use Pandas to first make a dataframe and then write the dataframe to SQL. Write a `SELECT` query to confirm that the new table does have your top 3 favorite movies."
   ]
  },
  {
   "cell_type": "code",
   "execution_count": 11,
   "metadata": {
    "azdata_cell_guid": "b4b6dd20-ccc0-42e7-b1e7-79d8596b3f9c",
    "language": "python"
   },
   "outputs": [
    {
     "name": "stdout",
     "output_type": "stream",
     "text": [
      "table created\n"
     ]
    }
   ],
   "source": [
    "# Use Pandas to make a new table in your database.\n",
    "with conn:\n",
    " conn.execute('''create table favorite_movies\n",
    "            (   ID INT Primary key NOT NULL,\n",
    "                title   text )''')\n",
    " print('table created')\n"
   ]
  },
  {
   "cell_type": "code",
   "execution_count": 12,
   "metadata": {},
   "outputs": [
    {
     "name": "stdout",
     "output_type": "stream",
     "text": [
      "table deleted\n"
     ]
    }
   ],
   "source": [
    "with conn:\n",
    "    conn.execute('Drop table favorite_movies')\n",
    "    print('table deleted')"
   ]
  },
  {
   "cell_type": "code",
   "execution_count": 25,
   "metadata": {},
   "outputs": [],
   "source": [
    "data = { 'ID' : [1,2,3],\n",
    "         'Title' : ['Avenger','Harrypotter','Minions']\n",
    "       }\n",
    "df = pd.DataFrame(data)"
   ]
  },
  {
   "cell_type": "code",
   "execution_count": 26,
   "metadata": {},
   "outputs": [
    {
     "data": {
      "text/html": [
       "<div>\n",
       "<style scoped>\n",
       "    .dataframe tbody tr th:only-of-type {\n",
       "        vertical-align: middle;\n",
       "    }\n",
       "\n",
       "    .dataframe tbody tr th {\n",
       "        vertical-align: top;\n",
       "    }\n",
       "\n",
       "    .dataframe thead th {\n",
       "        text-align: right;\n",
       "    }\n",
       "</style>\n",
       "<table border=\"1\" class=\"dataframe\">\n",
       "  <thead>\n",
       "    <tr style=\"text-align: right;\">\n",
       "      <th></th>\n",
       "      <th>ID</th>\n",
       "      <th>Title</th>\n",
       "    </tr>\n",
       "  </thead>\n",
       "  <tbody>\n",
       "    <tr>\n",
       "      <th>0</th>\n",
       "      <td>1</td>\n",
       "      <td>Avenger</td>\n",
       "    </tr>\n",
       "    <tr>\n",
       "      <th>1</th>\n",
       "      <td>2</td>\n",
       "      <td>Harrypotter</td>\n",
       "    </tr>\n",
       "    <tr>\n",
       "      <th>2</th>\n",
       "      <td>3</td>\n",
       "      <td>Minions</td>\n",
       "    </tr>\n",
       "  </tbody>\n",
       "</table>\n",
       "</div>"
      ],
      "text/plain": [
       "   ID        Title\n",
       "0   1      Avenger\n",
       "1   2  Harrypotter\n",
       "2   3      Minions"
      ]
     },
     "execution_count": 26,
     "metadata": {},
     "output_type": "execute_result"
    }
   ],
   "source": [
    "df"
   ]
  },
  {
   "cell_type": "code",
   "execution_count": 28,
   "metadata": {},
   "outputs": [
    {
     "data": {
      "text/plain": [
       "3"
      ]
     },
     "execution_count": 28,
     "metadata": {},
     "output_type": "execute_result"
    }
   ],
   "source": [
    "df.to_sql('favorite_movies',conn)"
   ]
  },
  {
   "cell_type": "code",
   "execution_count": 29,
   "metadata": {},
   "outputs": [
    {
     "name": "stdout",
     "output_type": "stream",
     "text": [
      "(0, 1, 'Avenger')\n",
      "(1, 2, 'Harrypotter')\n",
      "(2, 3, 'Minions')\n"
     ]
    }
   ],
   "source": [
    "with conn:\n",
    "    cursor = conn.execute('select * from favorite_movies')\n",
    "    for row in cursor:\n",
    "        print(row)"
   ]
  },
  {
   "cell_type": "code",
   "execution_count": null,
   "metadata": {},
   "outputs": [],
   "source": []
  }
 ],
 "metadata": {
  "kernelspec": {
   "display_name": "Python 3 (ipykernel)",
   "language": "python",
   "name": "python3"
  },
  "language_info": {
   "codemirror_mode": {
    "name": "ipython",
    "version": 3
   },
   "file_extension": ".py",
   "mimetype": "text/x-python",
   "name": "python",
   "nbconvert_exporter": "python",
   "pygments_lexer": "ipython3",
   "version": "3.10.9"
  }
 },
 "nbformat": 4,
 "nbformat_minor": 2
}
